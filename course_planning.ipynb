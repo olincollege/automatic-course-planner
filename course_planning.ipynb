{
 "cells": [
  {
   "cell_type": "markdown",
   "metadata": {},
   "source": [
    "## Define all Requirements\n",
    "- `credits_required`\n",
    "- Boolean value of requirements\n",
    "  - `matsci`\n",
    "  - `bio`\n",
    "  - `probstat`\n",
    "  - `design_depth`\n",
    "- course_number of requirements\n",
    "  - `major_requirements`\n",
    "  - `bio_requirements` \n",
    "  - `design_depth_requirements` \n",
    "  - `probstat_requirements` \n",
    "  - `matsci_requirements` "
   ]
  },
  {
   "cell_type": "code",
   "execution_count": 9,
   "metadata": {},
   "outputs": [],
   "source": [
    "credits_required = {\n",
    "    \"AHS\": 28,\n",
    "    \"ENG\": 46,\n",
    "    \"MTH/SCI\": 30,\n",
    "    \"MTH\": 10,\n",
    "    'SCI':0,\n",
    "    \"OFYI\": 1,\n",
    "    \"TOTAL\": 120,\n",
    "}\n",
    "matsci = False\n",
    "bio = False\n",
    "probstat = False\n",
    "design_depth = False"
   ]
  },
  {
   "cell_type": "code",
   "execution_count": 10,
   "metadata": {},
   "outputs": [],
   "source": [
    "major_requirements = {\n",
    "    \"E:C\": {\n",
    "        \"ENGR2510\": [True, 0],\n",
    "        \"ENGR3525\": [False, 1],\n",
    "        \"ENGR3599A/ENGR3520\": [False, 1],\n",
    "        \"ENGR3220/ENGR3410/ENGR3540\": [False, 1],\n",
    "        \"ENGR3590/ENGR3599\": [False, 1],\n",
    "    },\n",
    "    'ECE':{\"ENGX2010\":[False,0],\"ENGR2510\":[True, 0], \"ENGX2134\":[False,1],\"ENGR2410\":[False,1],\"ENGR2420\":[False,1], \n",
    "                             \"ENGR2199B\":[False,1],\"ENGR3410\":[False,1],\"ENGR3415\":[False,2],\"ENGR3420\":[False,2],\"ENGR3110\":[False,2],\n",
    "                             \"ENGR3370\":[False,2],\"ENGR3390\":[False,1],\"ENGR3392\":[False,2],\"ENGR3415\":[False,2],\"ENGR3420\":[False,2],\n",
    "                             \"ENGR3426\":[False,2],\"ENGR3430\":[False,3],\"ENGR3440\":[False,3],\"ENGR3499\":[False,2],\"MTH2110\":[False,0]\n",
    "                             },\n",
    "    \"MechE\": {\n",
    "        \"ENGX2010\": [False, 0],\n",
    "        \"ENGR2320\": [False, 0],\n",
    "        \"ENGX2134\": [False, 0],\n",
    "        \"ENGR2340\": [False, 1],\n",
    "        \"ENGR2360\": [False, 1],\n",
    "        \"ENGR3330\": [False, 1],\n",
    "        \"ENGR3110/ENGR3180/ENGR3232/ENGR3299C/ENGR3260/ENGR3345/ENGR3350/ENGR3370/ENGR3392/ENGR3820\": [\n",
    "            False,\n",
    "            1,\n",
    "        ],\n",
    "        \"MTH3120/MTH3150/MTH3170\": [False, 1],\n",
    "    },\n",
    "}\n",
    "bio_requirements = []\n",
    "design_depth_requirements = []\n",
    "probstat_requirements = []\n",
    "matsci_requirements = []"
   ]
  },
  {
   "cell_type": "markdown",
   "metadata": {},
   "source": [
    "## Define all initializations\n",
    "- `sem_courses`\n",
    "- `credits_took`\n",
    "- `courses_took`"
   ]
  },
  {
   "cell_type": "code",
   "execution_count": 11,
   "metadata": {},
   "outputs": [],
   "source": [
    "sem_courses = {\n",
    "    \"freshman fall\": [\"QEA1\", \"Modsim\", \"DesNat\", \"AHS\"],\n",
    "    \"freshman spring\": [\"QEA2\", \"ISIM\", \"P&M\", ],\n",
    "    \"sophomore fall\": [\"PIE\",],\n",
    "    \"sophomore spring\": [\"CD\", ],\n",
    "    \"junior fall\": [],\n",
    "    \"junior spring\": [],\n",
    "    \"senior fall\": [\"Capstone\"],\n",
    "    \"senior spring\": [\"Capstone\",],\n",
    "}\n",
    "courses_took = [\n",
    "    \"ENGX2000\",  # QEA\n",
    "    \"MTH1111/SCI1111\",  # ModSim\n",
    "    \"ENGR1200\",  # DesNat\n",
    "    \"AHSE0112\",  # OCO\n",
    "    \"ENGX2005\",  # QEA 2\n",
    "    \"ENGR1125\",  # ISIM\n",
    "    \"AHSE1515\",  # P&M\n",
    "    \"ENGR2110\",  # PIE\n",
    "    \"ENGR2250\",  # CD\n",
    "]"
   ]
  },
  {
   "cell_type": "code",
   "execution_count": 12,
   "metadata": {},
   "outputs": [
    {
     "data": {
      "text/plain": [
       "{'freshman fall': 0,\n",
       " 'freshman spring': 0,\n",
       " 'sophomore fall': 0,\n",
       " 'sophomore spring': 0,\n",
       " 'junior fall': 0,\n",
       " 'junior spring': 0,\n",
       " 'senior fall': 0,\n",
       " 'senior spring': 0}"
      ]
     },
     "execution_count": 12,
     "metadata": {},
     "output_type": "execute_result"
    }
   ],
   "source": [
    "def get_empty_schedules():\n",
    "    \"\"\"\n",
    "    get empty schedules from sem_courses\n",
    "    Return:\n",
    "        dictionary of how many course are free(should be filled in) for each semester.\n",
    "    \"\"\"\n",
    "    emtpy_sem_courses = {}\n",
    "    for semester, courses in sem_courses.items():\n",
    "        emtpy_sem_courses[semester] = courses.count(\"\")\n",
    "    return emtpy_sem_courses\n",
    "get_empty_schedules()"
   ]
  },
  {
   "cell_type": "markdown",
   "metadata": {},
   "source": [
    "## Get Course Type\n",
    "separate all courses"
   ]
  },
  {
   "cell_type": "code",
   "execution_count": 13,
   "metadata": {},
   "outputs": [],
   "source": [
    "def get_course_type(course):\n",
    "    '''\n",
    "    Determine the course type based on its prefix\n",
    "    Args:\n",
    "        course(str): Course code (e.g., 'MTH101', 'ENGR200')\n",
    "    Returns:\n",
    "        str: Course type ('MTH', 'ENG', 'SCI', 'AHS') or None if not matched\n",
    "    '''\n",
    "    if course.startswith('MTH'):\n",
    "        return 'MTH'\n",
    "    elif course.startswith('ENG'):\n",
    "        return 'ENG'\n",
    "    elif course.startswith('SCI'):\n",
    "        return 'SCI'\n",
    "    elif course.startswith('AHS'):\n",
    "        return 'AHS'\n",
    "    else:\n",
    "        return None"
   ]
  },
  {
   "cell_type": "markdown",
   "metadata": {},
   "source": [
    "## Get possible Courses\n",
    "Get possible course for each semester as a dictionary along with its liklihood of offering\n"
   ]
  },
  {
   "cell_type": "code",
   "execution_count": 16,
   "metadata": {},
   "outputs": [
    {
     "data": {
      "text/plain": [
       "{}"
      ]
     },
     "execution_count": 16,
     "metadata": {},
     "output_type": "execute_result"
    }
   ],
   "source": [
    "import pandas as pd\n",
    "\n",
    "def get_possible_courses(semester):\n",
    "    '''\n",
    "    Get possible course for each semester as a dictionary along with its likelihood of offering\n",
    "    Args:\n",
    "        semester(str): semester that you want to check the course offering for (e.g., 'freshman fall')\n",
    "        df (DataFrame): DataFrame containing the course offering data\n",
    "    Returns:\n",
    "        course offering dictionary with likelihood, separated by course type\n",
    "    '''\n",
    "    # Initialize an empty dictionary to store offered courses by type\n",
    "    offered_courses = {'MTH': {}, 'ENG': {}, 'SCI': {}, 'AHS': {}}\n",
    "    \n",
    "    # Find the corresponding column index for the semester\n",
    "    semester_column = semester.lower()\n",
    "    \n",
    "    # Check if the semester column exists in the DataFrame\n",
    "    if semester_column in df.columns:\n",
    "        # Filter the DataFrame for courses offered in the specified semester with values greater than 0.5\n",
    "        courses_offered = df[df[semester_column] > 0.5]\n",
    "        \n",
    "        # Iterate through the courses offered and categorize them by type\n",
    "        for course in courses_offered.index.tolist():\n",
    "            course_type = get_course_type(course)\n",
    "            if course_type:\n",
    "                offered_courses[course_type][course] = courses_offered.loc[course, semester_column]\n",
    "    \n",
    "    return offered_courses\n",
    "\n",
    "# Example usage\n",
    "df = pd.read_csv(\"predicted_schedule.csv\", index_col=0).T\n",
    "semester = 'freshmen fall'\n",
    "possible_courses = get_possible_courses(semester)\n",
    "# print(f\"Courses offered in {semester}:\")\n",
    "# for course_type, courses in possible_courses.items():\n",
    "#     print(f\"{course_type}:\")\n",
    "#     for course, likelihood in courses.items():\n",
    "#         print(f\"  {course}: {likelihood}\")\n",
    "possible_courses['AHS']\n"
   ]
  },
  {
   "cell_type": "markdown",
   "metadata": {},
   "source": [
    "## Get Possible Semesters"
   ]
  },
  {
   "cell_type": "code",
   "execution_count": 4,
   "metadata": {},
   "outputs": [
    {
     "name": "stdout",
     "output_type": "stream",
     "text": [
      "['freshmen spring', 'sophomore spring', 'junior spring', 'senior spring']\n"
     ]
    }
   ],
   "source": [
    "import pandas as pd\n",
    "df = pd.read_csv('predicted_schedule.csv', index_col=0).T\n",
    "\n",
    "def get_possible_semesters(course_number):\n",
    "    '''\n",
    "    Extracts semesters with a likelihood greater than 0.5 for a given course number ordered by likelihood.\n",
    "\n",
    "    Args:\n",
    "        df (DataFrame): DataFrame containing the likelihood of the course being offered for different semesters.\n",
    "        course_number (str): The course number for which semesters are to be extracted.\n",
    "\n",
    "    Returns:\n",
    "        list: An ordered list of semesters with likelihood greater than 0.5 for the given course number.\n",
    "    '''\n",
    "    # Remove the first element (Course Title) from the row and make it into DataFrame\n",
    "    possible_semesters_df = pd.DataFrame(df[course_number][1:])\n",
    "    \n",
    "    # Reset the index to have the semester as a column\n",
    "    possible_semesters_df.reset_index(inplace=True)\n",
    "    possible_semesters_df.columns = ['Semester', 'Likelihood']\n",
    "\n",
    "    # Sort the DataFrame by Likelihood in ascending order\n",
    "    possible_semesters_df = possible_semesters_df.sort_values(by='Likelihood', ascending=False)\n",
    "\n",
    "    # Filter the DataFrame to select semesters with likelihood > 0.5\n",
    "    possible_semesters = possible_semesters_df[possible_semesters_df['Likelihood'] > 0.5]['Semester'].tolist()\n",
    "\n",
    "    return possible_semesters\n",
    "\n",
    "# Example Usage\n",
    "print(get_possible_semesters('ENGR1125'))"
   ]
  },
  {
   "cell_type": "markdown",
   "metadata": {},
   "source": [
    "## Calculate Credits Taken"
   ]
  },
  {
   "cell_type": "code",
   "execution_count": null,
   "metadata": {},
   "outputs": [
    {
     "data": {
      "text/plain": [
       "{'AHS': 8, 'ENG': 24, 'MTH/SCI': 4, 'MTH': 4, 'SCI': 0, 'OFYI': 1, 'TOTAL': 37}"
      ]
     },
     "execution_count": 17,
     "metadata": {},
     "output_type": "execute_result"
    }
   ],
   "source": [
    "def calculate_credits_taken(courses_took):\n",
    "    '''\n",
    "    Calculate the number of credits taken for each course type and total credits\n",
    "    Args:\n",
    "        courses_took(list): List of course codes taken\n",
    "    Returns:\n",
    "        dict: Dictionary containing the number of credits taken for each course type and total credits\n",
    "    '''\n",
    "    # Initialize credits\n",
    "    credits_took = {\n",
    "    \"AHS\": 0,\n",
    "    \"ENG\": 0,\n",
    "    \"MTH/SCI\": 0,\n",
    "    \"MTH\": 0,\n",
    "    \"SCI\": 0,\n",
    "    \"OFYI\": 1,\n",
    "    \"TOTAL\": 1,\n",
    "}\n",
    "    for course in courses_took:\n",
    "        course_type = get_course_type(course)\n",
    "        if course_type:\n",
    "            # If the course type is valid, add the corresponding credits\n",
    "            if course_type == 'MTH' or course_type == 'SCI':\n",
    "                credits_took['MTH/SCI'] += 4\n",
    "            credits_took[course_type] += 4\n",
    "            credits_took['TOTAL'] += 4\n",
    "    \n",
    "    return credits_took\n",
    "\n",
    "# Example Usage\n",
    "\n",
    "courses_took = [\n",
    "    \"ENGX2000\",  # QEA\n",
    "    \"MTH1111/SCI1111\",  # ModSim\n",
    "    \"ENGR1200\",  # DesNat\n",
    "    \"AHSE0112\",  # OCO\n",
    "    \"ENGX2005\",  # QEA 2\n",
    "    \"ENGR1125\",  # ISIM\n",
    "    \"AHSE1515\",  # P&M\n",
    "    \"ENGR2110\",  # PIE\n",
    "    \"ENGR2250\",  # CD\n",
    "]\n",
    "\n",
    "# Calculate credits taken\n",
    "credits_took = calculate_credits_taken(courses_took)\n",
    "\n",
    "# Print the credits taken\n",
    "# print(\"Credits taken:\")\n",
    "# for course_type, credits in credits_took.items():\n",
    "#     print(f\"{course_type}: {credits}\")\n",
    "credits_took"
   ]
  },
  {
   "cell_type": "markdown",
   "metadata": {},
   "source": [
    "## fill_required_courses\n",
    "\n",
    "check `fill_required_courses.py`\n",
    "\n",
    "The resulting `sem_course` and `courses_took` will look like below."
   ]
  },
  {
   "cell_type": "code",
   "execution_count": null,
   "metadata": {},
   "outputs": [],
   "source": [
    "sem_courses = {\n",
    "    \"Freshmen Fall\": [\"QEA1\", \"Modsim\", \"DesNat\", \"AHS\"],\n",
    "    \"Freshmen Spring\": [\"QEA2\", \"ISIM\", \"P&M\"],\n",
    "    \"Sophomore Fall\": [\n",
    "        \"PIE\",\n",
    "        \"ENGX2010: Quantitative Engineering Analysis 3\",\n",
    "        \"ENGX2134: Engineering Systems Analysis (2cr)\",\n",
    "        \"ENGR2360: Introduction to Thermal-Fluid Systems\",\n",
    "    ],\n",
    "    \"Sophomore Spring\": [\n",
    "        \"CD\",\n",
    "        \"Mechanics of Solids and Structures\",\n",
    "        \"ENGR2340: Dynamics\",\n",
    "        \"MTH3120: Partial Differential Equations\",\n",
    "    ],\n",
    "    \"Junior Fall\": [\"Mechanical Design\", \"Design for Manufacturing\"],\n",
    "    \"Junior Spring\": [],\n",
    "    \"Senior Fall\": [\"Capstone\"],\n",
    "    \"Senior Spring\": [\"Capstone\"],\n",
    "}\n",
    "courses_took = [\n",
    "    \"ENGX2000\",\n",
    "    \"MTH1111/SCI1111\",\n",
    "    \"ENGR1200\",\n",
    "    \"AHSE0112\",\n",
    "    \"ENGX2005\",\n",
    "    \"ENGR1125\",\n",
    "    \"AHSE1515\",\n",
    "    \"ENGR2110\",\n",
    "    \"ENGR2250\",\n",
    "    \"ENGR3525\",\n",
    "    \"ENGR3599A\",\n",
    "    \"ENGR3220\",\n",
    "    \"ENGR3599\",\n",
    "]"
   ]
  },
  {
   "cell_type": "markdown",
   "metadata": {},
   "source": [
    "## Fill Other requirements"
   ]
  },
  {
   "cell_type": "code",
   "execution_count": null,
   "metadata": {},
   "outputs": [],
   "source": [
    "other_requirements = {\n",
    "    \"bio\":['SCI1270','SCI1260/AHSE2160'],\n",
    "    \"design_depth\" :['ENGR3210','ENGR3290','ENGR3250'],\n",
    "    \"probstat\" : ['MTH2130', ],\n",
    "    \"matsci\" :['SCI1440']\n",
    "}\n",
    "other_requirements_fulfilled = {'bio':False, 'design_depth':False, 'probstat':False, 'matsci':False}"
   ]
  },
  {
   "cell_type": "code",
   "execution_count": null,
   "metadata": {},
   "outputs": [
    {
     "data": {
      "text/plain": [
       "['QEA1', 'Modsim', 'DesNat', 'AHS']"
      ]
     },
     "execution_count": 93,
     "metadata": {},
     "output_type": "execute_result"
    }
   ],
   "source": [
    "sem_courses['freshmen fall']"
   ]
  },
  {
   "cell_type": "code",
   "execution_count": null,
   "metadata": {},
   "outputs": [
    {
     "data": {
      "text/plain": [
       "{'freshman fall': ['QEA1', 'Modsim', 'DesNat', 'AHS'],\n",
       " 'freshman spring': ['QEA2',\n",
       "  'ISIM',\n",
       "  'P&M',\n",
       "  'SCI1270: Biomes, Climate Change, and Biodiversity (BCB)'],\n",
       " 'sophomore fall': ['PIE',\n",
       "  'SCI1270: Biomes, Climate Change, and Biodiversity (BCB)',\n",
       "  'Affordable Design and Entrepreneurship'],\n",
       " 'sophomore spring': ['CD',\n",
       "  'SCI1260_AHSE2160: The Intersection of Biology, Art and Technology',\n",
       "  'ENGR3210: Sustainable Design',\n",
       "  'Affordable Design and Entrepreneurship'],\n",
       " 'junior fall': [],\n",
       " 'junior spring': ['Integrated Product Design',\n",
       "  'Probability and Statistics',\n",
       "  'SCI1270: Biomes, Climate Change, and Biodiversity (BCB)',\n",
       "  'SCI1260_AHSE2160: The Intersection of Biology, Art and Technology'],\n",
       " 'senior fall': ['Capstone',\n",
       "  'SCI1440 Materials Creation, Consumption, and Impact'],\n",
       " 'senior spring': ['Capstone',\n",
       "  'ENGR3210: Sustainable Design',\n",
       "  'Affordable Design and Entrepreneurship',\n",
       "  'Integrated Product Design']}"
      ]
     },
     "execution_count": 103,
     "metadata": {},
     "output_type": "execute_result"
    }
   ],
   "source": [
    "def fill_other_requirements(MAX_COURSES=4):\n",
    "    for (\n",
    "        course_type,\n",
    "        courses,\n",
    "    ) in other_requirements.items():  # courses is list of course number\n",
    "        for course in courses:\n",
    "            # among the semester the course would be offered,\n",
    "            possible_semesters = get_possible_semesters(course)\n",
    "            for semester in possible_semesters:\n",
    "                # if the person is taking less courses than MAX_COURSES in the semester\n",
    "                if (\n",
    "                    len(sem_courses[semester]) < MAX_COURSES\n",
    "                    and not other_requirements_fulfilled[course_type]\n",
    "                ):\n",
    "                    # fill in the sem_courses\n",
    "                    course_title = df[course][\"Course Title\"]\n",
    "                    sem_courses[semester].append(course_title)\n",
    "                    # add it to the courses_took\n",
    "                    courses_took.append(course)\n",
    "                    other_requirements_fulfilled[course_type] = True\n",
    "                    break\n",
    "    return sem_courses\n",
    "\n",
    "# Example Usage\n",
    "fill_other_requirements()"
   ]
  },
  {
   "cell_type": "markdown",
   "metadata": {},
   "source": [
    "After running the code sem_courses becomes as below"
   ]
  },
  {
   "cell_type": "code",
   "execution_count": 48,
   "metadata": {},
   "outputs": [],
   "source": [
    "sem_courses = {\n",
    "    \"freshmen fall\": [\"QEA1\", \"Modsim\", \"DesNat\", \"AHS\"],\n",
    "    \"freshmen spring\": [\n",
    "        \"QEA2\",\n",
    "        \"ISIM\",\n",
    "        \"P&M\",\n",
    "        \"SCI1270: Biomes, Climate Change, and Biodiversity (BCB)\",\n",
    "    ],\n",
    "    \"sophomore fall\": [\n",
    "        \"PIE\",\n",
    "        \"ENGX2010: Quantitative Engineering Analysis 3\",\n",
    "        \"ENGX2134: Engineering Systems Analysis (2cr)\",\n",
    "        \"ENGR2360: Introduction to Thermal-Fluid Systems\",\n",
    "    ],\n",
    "    \"sophomore spring\": [\n",
    "        \"CD\",\n",
    "        \"Mechanics of Solids and Structures\",\n",
    "        \"ENGR2340: Dynamics\",\n",
    "        \"MTH3120: Partial Differential Equations\",\n",
    "    ],\n",
    "    \"junior fall\": [\"Mechanical Design\", \"Design for Manufacturing\"],\n",
    "    \"junior spring\": [\n",
    "        \"ENGR3210: Sustainable Design\",\n",
    "        \"Probability and Statistics\",\n",
    "        \"SCI1440 Materials Creation, Consumption, and Impact\",\n",
    "    ],\n",
    "    \"senior fall\": [\"Capstone\"],\n",
    "    \"senior spring\": [\"Capstone\"],\n",
    "}\n",
    "courses_took = ['ENGX2000', 'MTH1111/SCI1111', 'ENGR1200', 'AHSE0112', 'ENGX2005', 'ENGR1125', 'AHSE1515', 'ENGR2110', 'ENGR2250', 'ENGR3525', 'ENGR3599A', 'ENGR3220', 'ENGR3599', 'SCI1270', 'ENGR3210', 'SCI1440']"
   ]
  },
  {
   "cell_type": "code",
   "execution_count": null,
   "metadata": {},
   "outputs": [
    {
     "data": {
      "text/plain": [
       "16"
      ]
     },
     "execution_count": 35,
     "metadata": {},
     "output_type": "execute_result"
    }
   ],
   "source": [
    "len(courses_took)"
   ]
  },
  {
   "cell_type": "markdown",
   "metadata": {},
   "source": [
    "# fill_empty_schedules"
   ]
  },
  {
   "cell_type": "code",
   "execution_count": null,
   "metadata": {},
   "outputs": [
    {
     "data": {
      "text/plain": [
       "{'AHS': 20,\n",
       " 'ENG': -22,\n",
       " 'MTH/SCI': 14,\n",
       " 'MTH': 2,\n",
       " 'SCI': -8,\n",
       " 'OFYI': 0,\n",
       " 'TOTAL': 27}"
      ]
     },
     "execution_count": 34,
     "metadata": {},
     "output_type": "execute_result"
    }
   ],
   "source": [
    "# credits_took = calculate_credits_taken(courses_took)\n",
    "\n",
    "credits_took = {'AHS': 8,\n",
    " 'ENG': 68,\n",
    " 'MTH/SCI': 16,\n",
    " 'MTH': 8,\n",
    " 'SCI': 8,\n",
    " 'OFYI': 1,\n",
    " 'TOTAL': 93}\n",
    "credits_needed = {}\n",
    "for course_type, credits in credits_required.items():\n",
    "    credits_needed[course_type] = credits - credits_took[course_type]\n",
    "\n",
    "credits_needed"
   ]
  },
  {
   "cell_type": "code",
   "execution_count": null,
   "metadata": {},
   "outputs": [
    {
     "data": {
      "text/plain": [
       "{'ENGR1200': 0.9990832452217484,\n",
       " 'ENGR1330': 0.8867005730802183,\n",
       " 'ENGR2110': 0.8285211050533808,\n",
       " 'ENGR2250': 1.0000001985092457,\n",
       " 'ENGR2299': 0.6030968114016738,\n",
       " 'ENGR2360': 0.5836093516847884,\n",
       " 'ENGR3220': 0.8089937261587784,\n",
       " 'ENGR3260': 0.8589347380702645,\n",
       " 'ENGR3260L': 0.8899791614648302,\n",
       " 'ENGR3290': 1.0,\n",
       " 'ENGR3299A': 0.5992454364481712,\n",
       " 'ENGR3330': 0.970105218660164,\n",
       " 'ENGR3350': 0.7154293016895803,\n",
       " 'ENGR3355': 1.0000000000003757,\n",
       " 'ENGR3365': 1.0000000000003757,\n",
       " 'ENGR3392': 1.1018793466643857,\n",
       " 'ENGR3410': 0.9990832452217484,\n",
       " 'ENGR3420': 0.7707658682892973,\n",
       " 'ENGR3499': 0.5284556286647817,\n",
       " 'ENGR3520': 1.0002990402477832,\n",
       " 'ENGR3599': 1.000074917008313,\n",
       " 'ENGR4190': 1.0,\n",
       " 'ENGR4290': 1.0,\n",
       " 'ENGR4599': 0.9126261341298476,\n",
       " 'ENGX2000': 0.8382362394045956,\n",
       " 'ENGX2010': 0.8731955754090999,\n",
       " 'ENGX2134': 1.0000000000003757}"
      ]
     },
     "execution_count": 51,
     "metadata": {},
     "output_type": "execute_result"
    }
   ],
   "source": [
    "get_possible_courses('sophomore fall',df)['ENG']"
   ]
  },
  {
   "cell_type": "markdown",
   "metadata": {},
   "source": [
    "## choose course \n",
    "choose a course randomly for the given semester based on weighing course's likihood of offering "
   ]
  },
  {
   "cell_type": "code",
   "execution_count": 47,
   "metadata": {},
   "outputs": [
    {
     "data": {
      "text/plain": [
       "'MTH3120'"
      ]
     },
     "execution_count": 47,
     "metadata": {},
     "output_type": "execute_result"
    }
   ],
   "source": [
    "import random\n",
    "def choose_course(semester, course_type=\"ALL\"):\n",
    "     \"\"\"\n",
    "     choose a course for the course_type and semester according to its liklihood of offering\n",
    "     if course_type is ALL, choose from any subject\n",
    "\n",
    "     Args:\n",
    "      course_type:\n",
    "      semester:\n",
    "\n",
    "     return:\n",
    "          course num\n",
    "     \"\"\"\n",
    "     if course_type == \"ALL\":\n",
    "          possible_courses = get_possible_courses(semester, df)\n",
    "          all_possible_courses = {}\n",
    "          for courses in possible_courses.values():\n",
    "               all_possible_courses.update(courses)\n",
    "\n",
    "          possible_courses = all_possible_courses\n",
    "          print(possible_courses)\n",
    "     else: # if there is a choosen course type\n",
    "          possible_courses = get_possible_courses(semester, df)[course_type]\n",
    "     # Extract course names and their weights\n",
    "     course_names = list(possible_courses.keys())\n",
    "     weights = list(possible_courses.values())\n",
    "\n",
    "     # Randomly choose a course based on weights\n",
    "     random_course = random.choices(course_names, weights=weights)[0]\n",
    "     return random_course\n",
    "\n",
    "\n",
    "choose_course(\"freshmen spring\", 'MTH')\n"
   ]
  },
  {
   "cell_type": "markdown",
   "metadata": {},
   "source": [
    "## fill empty schedules\n",
    "fill any empty schedules according to credits needed with the choosen courses from the choose_course function"
   ]
  },
  {
   "cell_type": "code",
   "execution_count": 64,
   "metadata": {},
   "outputs": [
    {
     "data": {
      "text/plain": [
       "{'freshmen fall': ['QEA1', 'Modsim', 'DesNat', 'AHS'],\n",
       " 'freshmen spring': ['QEA2',\n",
       "  'ISIM',\n",
       "  'P&M',\n",
       "  'SCI1270: Biomes, Climate Change, and Biodiversity (BCB)'],\n",
       " 'sophomore fall': ['PIE',\n",
       "  'ENGX2010: Quantitative Engineering Analysis 3',\n",
       "  'ENGX2134: Engineering Systems Analysis (2cr)',\n",
       "  'ENGR2360: Introduction to Thermal-Fluid Systems'],\n",
       " 'sophomore spring': ['CD',\n",
       "  'Mechanics of Solids and Structures',\n",
       "  'ENGR2340: Dynamics',\n",
       "  'MTH3120: Partial Differential Equations'],\n",
       " 'junior fall': ['Mechanical Design',\n",
       "  'Design for Manufacturing',\n",
       "  'MTH3120: Partial Differential Equations',\n",
       "  'AHS'],\n",
       " 'junior spring': ['ENGR3210: Sustainable Design',\n",
       "  'Probability and Statistics',\n",
       "  'SCI1440 Materials Creation, Consumption, and Impact',\n",
       "  'MTH2136 / SCI2136: Astronomy and Statistics: AstroStats'],\n",
       " 'senior fall': ['Capstone',\n",
       "  'Modeling and Simulation of the Physical World',\n",
       "  'AHS'],\n",
       " 'senior spring': ['Capstone',\n",
       "  'MTH2136 / SCI2136: Astronomy and Statistics: AstroStats',\n",
       "  'AHS']}"
      ]
     },
     "execution_count": 64,
     "metadata": {},
     "output_type": "execute_result"
    }
   ],
   "source": [
    "df = pd.read_csv('predicted_schedule.csv', index_col=0)\n",
    "\"\"\"\n",
    "fill in the sem_course with the possible_courses\n",
    "\"\"\"\n",
    "MAX_NUM_COURSE = 4\n",
    "def fill_empty_schedules(sem_courses):\n",
    "    '''\n",
    "    Fill courses in semesters based on major requirements, course offerings, and credit requirements.\n",
    "    '''\n",
    "    \n",
    "    while credits_needed['TOTAL']>0:\n",
    "        # fill MTH if not enough math credit \n",
    "        if credits_needed['MTH']>0:\n",
    "            for semester, courses in sem_courses.items():\n",
    "                if len(courses) < MAX_NUM_COURSE:\n",
    "                    choosen_course = choose_course(semester, 'MTH') # course num\n",
    "                    choosen_course_title = df.T[choosen_course][\"Course Title\"] # course title\n",
    "                    sem_courses[semester].append(choosen_course_title)\n",
    "                    courses_took.append(choosen_course)\n",
    "                    credits_needed['MTH']-=4\n",
    "                    credits_needed['MTH/SCI']-=4\n",
    "                    credits_needed['TOTAL']-=4\n",
    "        # fill MTH/SCI\n",
    "        elif credits_needed['MTH/SCI']>0:\n",
    "            for semester, courses in sem_courses.items():\n",
    "                if len(courses) < MAX_NUM_COURSE:\n",
    "                    # if MTH/SCI just fill in with SCI courses??\n",
    "                    choosen_course = choose_course(semester, 'SCI') # course num \n",
    "                    choosen_course_title = df.T[choosen_course][\"Course Title\"] # course title\n",
    "                    sem_courses[semester].append(choosen_course_title)\n",
    "                    courses_took.append(choosen_course)\n",
    "                    credits_needed['SCI']-=4\n",
    "                    credits_needed['MTH/SCI']-=4\n",
    "                    credits_needed['TOTAL']-=4\n",
    "        # fill ENG\n",
    "        elif credits_needed['ENG']>0:\n",
    "            for semester, courses in sem_courses.items():\n",
    "                if len(courses) < MAX_NUM_COURSE:\n",
    "                    choosen_course = choose_course(semester, 'SCI') # course num\n",
    "                    choosen_course_title = df.T[choosen_course][\"Course Title\"] # course title\n",
    "                    sem_courses[semester].append(choosen_course_title)\n",
    "                    courses_took.append(choosen_course)\n",
    "                    credits_needed['ENG']-=4\n",
    "                    credits_needed['TOTAL']-=4\n",
    "        # fill AHS --> just 'AHS', no calculation\n",
    "        elif credits_needed['AHS']>0:\n",
    "            for semester, courses in sem_courses.items():\n",
    "                if len(courses) < MAX_NUM_COURSE:\n",
    "                    sem_courses[semester].append('AHS')\n",
    "                    courses_took.append('AHS')\n",
    "                    credits_needed['AHS']-=4\n",
    "                    credits_needed['TOTAL']-=4\n",
    "        # fill TOTAL with any course\n",
    "        else:\n",
    "            for semester, courses in sem_courses.items():\n",
    "                if len(courses) < MAX_NUM_COURSE:\n",
    "                    choosen_course = choose_course(semester) # course num\n",
    "                    choosen_course_title = df.T[choosen_course][\"Course Title\"] # course title\n",
    "                    sem_courses[semester].append(choosen_course_title)\n",
    "                    courses_took.append(choosen_course)\n",
    "                    credits_needed[choosen_course[0:3]]-=4 # course type\n",
    "                    credits_needed['TOTAL']-=4\n",
    "    return sem_courses\n",
    "\n",
    "fill_empty_schedules(sem_courses)\n",
    "            \n",
    "\n"
   ]
  },
  {
   "cell_type": "markdown",
   "metadata": {},
   "source": [
    "## Finalized Course Schedule"
   ]
  },
  {
   "cell_type": "code",
   "execution_count": 65,
   "metadata": {},
   "outputs": [
    {
     "data": {
      "text/plain": [
       "{'freshmen fall': ['QEA1', 'Modsim', 'DesNat', 'AHS'],\n",
       " 'freshmen spring': ['QEA2',\n",
       "  'ISIM',\n",
       "  'P&M',\n",
       "  'SCI1270: Biomes, Climate Change, and Biodiversity (BCB)'],\n",
       " 'sophomore fall': ['PIE',\n",
       "  'ENGX2010: Quantitative Engineering Analysis 3',\n",
       "  'ENGX2134: Engineering Systems Analysis (2cr)',\n",
       "  'ENGR2360: Introduction to Thermal-Fluid Systems'],\n",
       " 'sophomore spring': ['CD',\n",
       "  'Mechanics of Solids and Structures',\n",
       "  'ENGR2340: Dynamics',\n",
       "  'MTH3120: Partial Differential Equations'],\n",
       " 'junior fall': ['Mechanical Design',\n",
       "  'Design for Manufacturing',\n",
       "  'MTH3120: Partial Differential Equations',\n",
       "  'AHS'],\n",
       " 'junior spring': ['ENGR3210: Sustainable Design',\n",
       "  'Probability and Statistics',\n",
       "  'SCI1440 Materials Creation, Consumption, and Impact',\n",
       "  'MTH2136 / SCI2136: Astronomy and Statistics: AstroStats'],\n",
       " 'senior fall': ['Capstone',\n",
       "  'Modeling and Simulation of the Physical World',\n",
       "  'AHS'],\n",
       " 'senior spring': ['Capstone',\n",
       "  'MTH2136 / SCI2136: Astronomy and Statistics: AstroStats',\n",
       "  'AHS']}"
      ]
     },
     "execution_count": 65,
     "metadata": {},
     "output_type": "execute_result"
    }
   ],
   "source": [
    "sem_courses"
   ]
  }
 ],
 "metadata": {
  "kernelspec": {
   "display_name": "base",
   "language": "python",
   "name": "python3"
  },
  "language_info": {
   "codemirror_mode": {
    "name": "ipython",
    "version": 3
   },
   "file_extension": ".py",
   "mimetype": "text/x-python",
   "name": "python",
   "nbconvert_exporter": "python",
   "pygments_lexer": "ipython3",
   "version": "3.11.5"
  },
  "orig_nbformat": 4
 },
 "nbformat": 4,
 "nbformat_minor": 2
}
