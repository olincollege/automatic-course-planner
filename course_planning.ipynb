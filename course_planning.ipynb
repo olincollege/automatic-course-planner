{
 "cells": [
  {
   "cell_type": "markdown",
   "metadata": {},
   "source": [
    "## Define all Requirements\n",
    "- `credits_required`\n",
    "- Boolean value of requirements\n",
    "  - `matsci`\n",
    "  - `bio`\n",
    "  - `probstat`\n",
    "  - `design_depth`\n",
    "- course_number of requirements\n",
    "  - `major_requirements`\n",
    "  - `bio_requirements` \n",
    "  - `design_depth_requirements` \n",
    "  - `probstat_requirements` \n",
    "  - `matsci_requirements` "
   ]
  },
  {
   "cell_type": "code",
   "execution_count": 29,
   "metadata": {},
   "outputs": [],
   "source": [
    "credits_required = {\n",
    "    \"AHSE\": 28,\n",
    "    \"ENGR\": 46,\n",
    "    \"MTH/SCI\": 30,\n",
    "    \"MTH\": 10,\n",
    "    \"OFYI\": 1,\n",
    "    \"TOTAL\": 120,\n",
    "}\n",
    "matsci = False\n",
    "bio = False\n",
    "probstat = False\n",
    "design_depth = False"
   ]
  },
  {
   "cell_type": "code",
   "execution_count": 30,
   "metadata": {},
   "outputs": [],
   "source": [
    "major_requirements = {\n",
    "    \"E:C\": {\n",
    "        \"ENGR2510\": [True, 0],\n",
    "        \"ENGR3525\": [False, 1],\n",
    "        \"ENGR3599A/ENGR3520\": [False, 1],\n",
    "        \"ENGR3220/ENGR3410/ENGR3540\": [False, 1],\n",
    "        \"ENGR3590/ENGR3599\": [False, 1],\n",
    "    },\n",
    "    'ECE':{\"ENGX2010\":[False,0],\"ENGR2510\":[True, 0], \"ENGX2134\":[False,1],\"ENGR2410\":[False,1],\"ENGR2420\":[False,1], \n",
    "                             \"ENGR2199B\":[False,1],\"ENGR3410\":[False,1],\"ENGR3415\":[False,2],\"ENGR3420\":[False,2],\"ENGR3110\":[False,2],\n",
    "                             \"ENGR3370\":[False,2],\"ENGR3390\":[False,1],\"ENGR3392\":[False,2],\"ENGR3415\":[False,2],\"ENGR3420\":[False,2],\n",
    "                             \"ENGR3426\":[False,2],\"ENGR3430\":[False,3],\"ENGR3440\":[False,3],\"ENGR3499\":[False,2],\"MTH2110\":[False,0]\n",
    "                             },\n",
    "    \"MechE\": {\n",
    "        \"ENGX2010\": [False, 0],\n",
    "        \"ENGR2320\": [False, 0],\n",
    "        \"ENGX2134\": [False, 0],\n",
    "        \"ENGR2340\": [False, 1],\n",
    "        \"ENGR2360\": [False, 1],\n",
    "        \"ENGR3330\": [False, 1],\n",
    "        \"ENGR3110/ENGR3180/ENGR3232/ENGR3299C/ENGR3260/ENGR3345/ENGR3350/ENGR3370/ENGR3392/ENGR3820\": [\n",
    "            False,\n",
    "            1,\n",
    "        ],\n",
    "        \"MTH3120/MTH3150/MTH3170\": [False, 1],\n",
    "    },\n",
    "}\n",
    "bio_requirements = []\n",
    "design_depth_requirements = []\n",
    "probstat_requirements = []\n",
    "matsci_requirements = []"
   ]
  },
  {
   "cell_type": "markdown",
   "metadata": {},
   "source": [
    "## Define all initializations\n",
    "- `sem_courses`\n",
    "- `credits_took`\n",
    "- `courses_took`"
   ]
  },
  {
   "cell_type": "code",
   "execution_count": 94,
   "metadata": {},
   "outputs": [],
   "source": [
    "sem_courses = {\n",
    "    \"freshman fall\": [\"QEA1\", \"Modsim\", \"DesNat\", \"AHS\"],\n",
    "    \"freshman spring\": [\"QEA2\", \"ISIM\", \"P&M\", ],\n",
    "    \"sophomore fall\": [\"PIE\",],\n",
    "    \"sophomore spring\": [\"CD\", ],\n",
    "    \"junior fall\": [],\n",
    "    \"junior spring\": [],\n",
    "    \"senior fall\": [\"Capstone\"],\n",
    "    \"senior spring\": [\"Capstone\",],\n",
    "}\n",
    "credits_took = {\n",
    "    \"AHS\": 0,\n",
    "    \"ENG\": 0,\n",
    "    \"MTH/SCI\": 0,\n",
    "    \"MTH\": 0,\n",
    "    \"SCI\": 0,\n",
    "    \"OFYI\": 1,\n",
    "    \"TOTAL\": 1,\n",
    "}\n",
    "courses_took = [\n",
    "    \"ENGX2000\",  # QEA\n",
    "    \"MTH1111/SCI1111\",  # ModSim\n",
    "    \"ENGR1200\",  # DesNat\n",
    "    \"AHSE0112\",  # OCO\n",
    "    \"ENGX2005\",  # QEA 2\n",
    "    \"ENGR1125\",  # ISIM\n",
    "    \"AHSE1515\",  # P&M\n",
    "    \"ENGR2110\",  # PIE\n",
    "    \"ENGR2250\",  # CD\n",
    "]"
   ]
  },
  {
   "cell_type": "code",
   "execution_count": 32,
   "metadata": {},
   "outputs": [
    {
     "data": {
      "text/plain": [
       "{'Freshmen Fall': 0,\n",
       " 'Freshmen Spring': 0,\n",
       " 'Sophomore Fall': 0,\n",
       " 'Sophomore Spring': 0,\n",
       " 'Junior Fall': 0,\n",
       " 'Junior Spring': 0,\n",
       " 'Senior Fall': 0,\n",
       " 'Senior Spring': 0}"
      ]
     },
     "execution_count": 32,
     "metadata": {},
     "output_type": "execute_result"
    }
   ],
   "source": [
    "def get_empty_schedules():\n",
    "    \"\"\"\n",
    "    get empty schedules from sem_courses\n",
    "    Return:\n",
    "        dictionary of how many course are free(should be filled in) for each semester.\n",
    "    \"\"\"\n",
    "    emtpy_sem_courses = {}\n",
    "    for semester, courses in sem_courses.items():\n",
    "        emtpy_sem_courses[semester] = courses.count(\"\")\n",
    "    return emtpy_sem_courses\n",
    "get_empty_schedules()"
   ]
  },
  {
   "cell_type": "markdown",
   "metadata": {},
   "source": [
    "## Get Course Type\n",
    "separate all courses"
   ]
  },
  {
   "cell_type": "code",
   "execution_count": 33,
   "metadata": {},
   "outputs": [],
   "source": [
    "def get_course_type(course):\n",
    "    '''\n",
    "    Determine the course type based on its prefix\n",
    "    Args:\n",
    "        course(str): Course code (e.g., 'MTH101', 'ENGR200')\n",
    "    Returns:\n",
    "        str: Course type ('MTH', 'ENG', 'SCI', 'AHS') or None if not matched\n",
    "    '''\n",
    "    if course.startswith('MTH'):\n",
    "        return 'MTH'\n",
    "    elif course.startswith('ENG'):\n",
    "        return 'ENG'\n",
    "    elif course.startswith('SCI'):\n",
    "        return 'SCI'\n",
    "    elif course.startswith('AHS'):\n",
    "        return 'AHS'\n",
    "    else:\n",
    "        return None"
   ]
  },
  {
   "cell_type": "markdown",
   "metadata": {},
   "source": [
    "## Get possible Courses\n",
    "Get possible course for each semester as a dictionary along with its liklihood of offering\n"
   ]
  },
  {
   "cell_type": "code",
   "execution_count": 48,
   "metadata": {},
   "outputs": [
    {
     "data": {
      "text/plain": [
       "{'AHSE0112': 1.0,\n",
       " 'AHSE1122': 0.894167845140597,\n",
       " 'AHSE1155': 0.6834414333350782,\n",
       " 'AHSE1160': 0.9197698262255724,\n",
       " 'AHSE1199': 0.8474038327397033,\n",
       " 'AHSE1515': 1.0000000969903182,\n",
       " 'AHSE2135': 0.8818610664732737,\n",
       " 'AHSE2150_SCI1250': 0.9999999999992432,\n",
       " 'AHSE2199': 0.6865369575942863,\n",
       " 'AHSE2199A': 0.5106408293586517,\n",
       " 'AHSE2199B': 0.8308775981863217,\n",
       " 'AHSE2515': 0.9523862030671012,\n",
       " 'AHSE3190': 1.0,\n",
       " 'AHSE4190': 1.00000011179658}"
      ]
     },
     "execution_count": 48,
     "metadata": {},
     "output_type": "execute_result"
    }
   ],
   "source": [
    "import pandas as pd\n",
    "\n",
    "def get_possible_courses(semester, df):\n",
    "    '''\n",
    "    Get possible course for each semester as a dictionary along with its likelihood of offering\n",
    "    Args:\n",
    "        semester(str): semester that you want to check the course offering for (e.g., 'freshman fall')\n",
    "        df (DataFrame): DataFrame containing the course offering data\n",
    "    Returns:\n",
    "        course offering dictionary with likelihood, separated by course type\n",
    "    '''\n",
    "    # Initialize an empty dictionary to store offered courses by type\n",
    "    offered_courses = {'MTH': {}, 'ENG': {}, 'SCI': {}, 'AHS': {}}\n",
    "    \n",
    "    # Find the corresponding column index for the semester\n",
    "    semester_column = semester.lower()\n",
    "    \n",
    "    # Check if the semester column exists in the DataFrame\n",
    "    if semester_column in df.columns:\n",
    "        # Filter the DataFrame for courses offered in the specified semester with values greater than 0.5\n",
    "        courses_offered = df[df[semester_column] > 0.5]\n",
    "        \n",
    "        # Iterate through the courses offered and categorize them by type\n",
    "        for course in courses_offered.index.tolist():\n",
    "            course_type = get_course_type(course)\n",
    "            if course_type:\n",
    "                offered_courses[course_type][course] = courses_offered.loc[course, semester_column]\n",
    "    \n",
    "    return offered_courses\n",
    "\n",
    "# Example usage\n",
    "df = pd.read_csv(\"predicted_schedule.csv\", index_col=0)\n",
    "semester = 'freshman fall'\n",
    "possible_courses = get_possible_courses(semester, df)\n",
    "# print(f\"Courses offered in {semester}:\")\n",
    "# for course_type, courses in possible_courses.items():\n",
    "#     print(f\"{course_type}:\")\n",
    "#     for course, likelihood in courses.items():\n",
    "#         print(f\"  {course}: {likelihood}\")\n",
    "possible_courses['AHS']\n"
   ]
  },
  {
   "cell_type": "markdown",
   "metadata": {},
   "source": [
    "## Get Possible Semesters"
   ]
  },
  {
   "cell_type": "code",
   "execution_count": 101,
   "metadata": {},
   "outputs": [
    {
     "name": "stdout",
     "output_type": "stream",
     "text": [
      "['freshman spring', 'sophomore spring', 'junior spring', 'senior spring']\n"
     ]
    }
   ],
   "source": [
    "def get_possible_semesters(course_number):\n",
    "    '''\n",
    "    Extracts semesters with a likelihood greater than 0.5 for a given course number ordered by likelihood.\n",
    "\n",
    "    Args:\n",
    "        df (DataFrame): DataFrame containing the likelihood of the course being offered for different semesters.\n",
    "        course_number (str): The course number for which semesters are to be extracted.\n",
    "\n",
    "    Returns:\n",
    "        list: An ordered list of semesters with likelihood greater than 0.5 for the given course number.\n",
    "    '''\n",
    "    # Remove the first element (Course Title) from the row and make it into DataFrame\n",
    "    possible_semesters_df = pd.DataFrame(df[course_number][1:])\n",
    "    \n",
    "    # Reset the index to have the semester as a column\n",
    "    possible_semesters_df.reset_index(inplace=True)\n",
    "    possible_semesters_df.columns = ['Semester', 'Likelihood']\n",
    "\n",
    "    # Sort the DataFrame by Likelihood in ascending order\n",
    "    possible_semesters_df = possible_semesters_df.sort_values(by='Likelihood', ascending=False)\n",
    "\n",
    "    # Filter the DataFrame to select semesters with likelihood > 0.5\n",
    "    possible_semesters = possible_semesters_df[possible_semesters_df['Likelihood'] > 0.5]['Semester'].tolist()\n",
    "\n",
    "    return possible_semesters\n",
    "\n",
    "# Example Usage\n",
    "print(get_possible_semesters('ENGR1125'))"
   ]
  },
  {
   "cell_type": "markdown",
   "metadata": {},
   "source": [
    "## Calculate Credits Taken"
   ]
  },
  {
   "cell_type": "code",
   "execution_count": 42,
   "metadata": {},
   "outputs": [
    {
     "data": {
      "text/plain": [
       "{'AHS': 6,\n",
       " 'ENG': 22,\n",
       " 'MTH/SCI': 31,\n",
       " 'MTH': 3,\n",
       " 'SCI': 0,\n",
       " 'OFYI': 1,\n",
       " 'TOTAL': 32}"
      ]
     },
     "execution_count": 42,
     "metadata": {},
     "output_type": "execute_result"
    }
   ],
   "source": [
    "def calculate_credits_taken(courses_took):\n",
    "    '''\n",
    "    Calculate the number of credits taken for each course type and total credits\n",
    "    Args:\n",
    "        courses_took(list): List of course codes taken\n",
    "    Returns:\n",
    "        dict: Dictionary containing the number of credits taken for each course type and total credits\n",
    "    '''\n",
    "    for course in courses_took:\n",
    "        course_type = get_course_type(course)\n",
    "        if course_type:\n",
    "            # If the course type is valid, add the corresponding credits\n",
    "            if course_type == 'MTH' or 'SCI':\n",
    "                credits_took['MTH/SCI'] += 1\n",
    "            credits_took[course_type] += 1\n",
    "            credits_took['TOTAL'] += 1\n",
    "    \n",
    "    return credits_took\n",
    "\n",
    "# Example Usage\n",
    "\n",
    "courses_took = [\n",
    "    \"ENGX2000\",  # QEA\n",
    "    \"MTH1111/SCI1111\",  # ModSim\n",
    "    \"ENGR1200\",  # DesNat\n",
    "    \"AHSE0112\",  # OCO\n",
    "    \"ENGX2005\",  # QEA 2\n",
    "    \"ENGR1125\",  # ISIM\n",
    "    \"AHSE1515\",  # P&M\n",
    "    \"ENGR2110\",  # PIE\n",
    "    \"ENGR2250\",  # CD\n",
    "]\n",
    "\n",
    "# Calculate credits taken\n",
    "credits_took = calculate_credits_taken(courses_took)\n",
    "\n",
    "# Print the credits taken\n",
    "# print(\"Credits taken:\")\n",
    "# for course_type, credits in credits_took.items():\n",
    "#     print(f\"{course_type}: {credits}\")\n",
    "credits_took"
   ]
  },
  {
   "cell_type": "markdown",
   "metadata": {},
   "source": [
    "## fill_required_courses\n",
    "\n",
    "check `fill_required_courses.py`\n",
    "\n",
    "The resulting `sem_course` and `courses_took` will look like below."
   ]
  },
  {
   "cell_type": "code",
   "execution_count": 36,
   "metadata": {},
   "outputs": [],
   "source": [
    "sem_courses = {\n",
    "    \"Freshmen Fall\": [\"QEA1\", \"Modsim\", \"DesNat\", \"AHS\"],\n",
    "    \"Freshmen Spring\": [\"QEA2\", \"ISIM\", \"P&M\"],\n",
    "    \"Sophomore Fall\": [\n",
    "        \"PIE\",\n",
    "        \"ENGX2010: Quantitative Engineering Analysis 3\",\n",
    "        \"ENGX2134: Engineering Systems Analysis (2cr)\",\n",
    "        \"ENGR2360: Introduction to Thermal-Fluid Systems\",\n",
    "    ],\n",
    "    \"Sophomore Spring\": [\n",
    "        \"CD\",\n",
    "        \"Mechanics of Solids and Structures\",\n",
    "        \"ENGR2340: Dynamics\",\n",
    "        \"MTH3120: Partial Differential Equations\",\n",
    "    ],\n",
    "    \"Junior Fall\": [\"Mechanical Design\", \"Design for Manufacturing\"],\n",
    "    \"Junior Spring\": [],\n",
    "    \"Senior Fall\": [\"Capstone\"],\n",
    "    \"Senior Spring\": [\"Capstone\"],\n",
    "}\n",
    "courses_took = [\n",
    "    \"ENGX2000\",\n",
    "    \"MTH1111/SCI1111\",\n",
    "    \"ENGR1200\",\n",
    "    \"AHSE0112\",\n",
    "    \"ENGX2005\",\n",
    "    \"ENGR1125\",\n",
    "    \"AHSE1515\",\n",
    "    \"ENGR2110\",\n",
    "    \"ENGR2250\",\n",
    "    \"ENGR3525\",\n",
    "    \"ENGR3599A\",\n",
    "    \"ENGR3220\",\n",
    "    \"ENGR3599\",\n",
    "]"
   ]
  },
  {
   "cell_type": "markdown",
   "metadata": {},
   "source": [
    "## Fill Other requirements"
   ]
  },
  {
   "cell_type": "code",
   "execution_count": 98,
   "metadata": {},
   "outputs": [],
   "source": [
    "other_requirements = {\n",
    "    \"bio\":['SCI1270','SCI1260/AHSE2160'],\n",
    "    \"design_depth\" :['ENGR3210','ENGR3290','ENGR3250'],\n",
    "    \"probstat\" : ['MTH2130', ],\n",
    "    \"matsci\" :['SCI1440']\n",
    "}\n",
    "other_requirements_fulfilled = {'bio':False, 'design_depth':False, 'probstat':False, 'matsci':False}"
   ]
  },
  {
   "cell_type": "code",
   "execution_count": 93,
   "metadata": {},
   "outputs": [
    {
     "data": {
      "text/plain": [
       "['QEA1', 'Modsim', 'DesNat', 'AHS']"
      ]
     },
     "execution_count": 93,
     "metadata": {},
     "output_type": "execute_result"
    }
   ],
   "source": [
    "sem_courses['freshmen fall']"
   ]
  },
  {
   "cell_type": "code",
   "execution_count": 103,
   "metadata": {},
   "outputs": [
    {
     "data": {
      "text/plain": [
       "{'freshman fall': ['QEA1', 'Modsim', 'DesNat', 'AHS'],\n",
       " 'freshman spring': ['QEA2',\n",
       "  'ISIM',\n",
       "  'P&M',\n",
       "  'SCI1270: Biomes, Climate Change, and Biodiversity (BCB)'],\n",
       " 'sophomore fall': ['PIE',\n",
       "  'SCI1270: Biomes, Climate Change, and Biodiversity (BCB)',\n",
       "  'Affordable Design and Entrepreneurship'],\n",
       " 'sophomore spring': ['CD',\n",
       "  'SCI1260_AHSE2160: The Intersection of Biology, Art and Technology',\n",
       "  'ENGR3210: Sustainable Design',\n",
       "  'Affordable Design and Entrepreneurship'],\n",
       " 'junior fall': [],\n",
       " 'junior spring': ['Integrated Product Design',\n",
       "  'Probability and Statistics',\n",
       "  'SCI1270: Biomes, Climate Change, and Biodiversity (BCB)',\n",
       "  'SCI1260_AHSE2160: The Intersection of Biology, Art and Technology'],\n",
       " 'senior fall': ['Capstone',\n",
       "  'SCI1440 Materials Creation, Consumption, and Impact'],\n",
       " 'senior spring': ['Capstone',\n",
       "  'ENGR3210: Sustainable Design',\n",
       "  'Affordable Design and Entrepreneurship',\n",
       "  'Integrated Product Design']}"
      ]
     },
     "execution_count": 103,
     "metadata": {},
     "output_type": "execute_result"
    }
   ],
   "source": [
    "def fill_other_requirements(MAX_COURSES=4):\n",
    "    for (\n",
    "        course_type,\n",
    "        courses,\n",
    "    ) in other_requirements.items():  # courses is list of course number\n",
    "        for course in courses:\n",
    "            # among the semester the course would be offered,\n",
    "            possible_semesters = get_possible_semesters(course)\n",
    "            for semester in possible_semesters:\n",
    "                # if the person is taking less courses than MAX_COURSES in the semester\n",
    "                if (\n",
    "                    len(sem_courses[semester]) < MAX_COURSES\n",
    "                    and not other_requirements_fulfilled[course_type]\n",
    "                ):\n",
    "                    # fill in the sem_courses\n",
    "                    course_title = df[course][\"Course Title\"]\n",
    "                    sem_courses[semester].append(course_title)\n",
    "                    # add it to the courses_took\n",
    "                    courses_took.append(course)\n",
    "                    other_requirements_fulfilled[course_type] = True\n",
    "                    break\n",
    "    return sem_courses\n",
    "\n",
    "# Example Usage\n",
    "fill_other_requirements()"
   ]
  },
  {
   "cell_type": "markdown",
   "metadata": {},
   "source": [
    "After running the code sem_courses becomes as below"
   ]
  },
  {
   "cell_type": "code",
   "execution_count": null,
   "metadata": {},
   "outputs": [],
   "source": [
    "sem_courses = {\n",
    "    \"freshmen fall\": [\"QEA1\", \"Modsim\", \"DesNat\", \"AHS\"],\n",
    "    \"freshmen spring\": [\n",
    "        \"QEA2\",\n",
    "        \"ISIM\",\n",
    "        \"P&M\",\n",
    "        \"SCI1270: Biomes, Climate Change, and Biodiversity (BCB)\",\n",
    "    ],\n",
    "    \"sophomore fall\": [\n",
    "        \"PIE\",\n",
    "        \"ENGX2010: Quantitative Engineering Analysis 3\",\n",
    "        \"ENGX2134: Engineering Systems Analysis (2cr)\",\n",
    "        \"ENGR2360: Introduction to Thermal-Fluid Systems\",\n",
    "    ],\n",
    "    \"sophomore spring\": [\n",
    "        \"CD\",\n",
    "        \"Mechanics of Solids and Structures\",\n",
    "        \"ENGR2340: Dynamics\",\n",
    "        \"MTH3120: Partial Differential Equations\",\n",
    "    ],\n",
    "    \"junior fall\": [\"Mechanical Design\", \"Design for Manufacturing\"],\n",
    "    \"junior spring\": [\n",
    "        \"ENGR3210: Sustainable Design\",\n",
    "        \"Probability and Statistics\",\n",
    "        \"SCI1440 Materials Creation, Consumption, and Impact\",\n",
    "    ],\n",
    "    \"senior fall\": [\"Capstone\"],\n",
    "    \"senior spring\": [\"Capstone\"],\n",
    "}\n"
   ]
  },
  {
   "cell_type": "markdown",
   "metadata": {},
   "source": [
    "## fill_empty_schedules"
   ]
  },
  {
   "cell_type": "code",
   "execution_count": null,
   "metadata": {},
   "outputs": [],
   "source": []
  },
  {
   "cell_type": "code",
   "execution_count": 104,
   "metadata": {},
   "outputs": [],
   "source": [
    "\"\"\"\n",
    "fill in the sem_course with the possible_courses\n",
    "\"\"\"\n",
    "def fill_empty_schedules(sem_courses):\n",
    "    '''\n",
    "    Fill courses in semesters based on major requirements, course offerings, and credit requirements.\n",
    "    '''\n",
    "    pass\n"
   ]
  }
 ],
 "metadata": {
  "kernelspec": {
   "display_name": "base",
   "language": "python",
   "name": "python3"
  },
  "language_info": {
   "codemirror_mode": {
    "name": "ipython",
    "version": 3
   },
   "file_extension": ".py",
   "mimetype": "text/x-python",
   "name": "python",
   "nbconvert_exporter": "python",
   "pygments_lexer": "ipython3",
   "version": "3.11.5"
  },
  "orig_nbformat": 4
 },
 "nbformat": 4,
 "nbformat_minor": 2
}
