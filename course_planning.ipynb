{
 "cells": [
  {
   "cell_type": "markdown",
   "metadata": {},
   "source": [
    "Requirements"
   ]
  },
  {
   "cell_type": "code",
   "execution_count": 19,
   "metadata": {},
   "outputs": [],
   "source": [
    "\n",
    "# calculate credit needs\n",
    "# requirements\n",
    "credits_took = {\n",
    "    \"AHSE\": 8,\n",
    "    \"ENGR\": 14,\n",
    "    \"MTH/SCI\": 10,\n",
    "    \"MTH\": 6,\n",
    "    \"OFYI\": 1,\n",
    "    \"TOTAL\": 33,\n",
    "}\n",
    "credits_required = {\n",
    "    \"AHSE\": 28,\n",
    "    \"ENGR\": 46,\n",
    "    \"MTH/SCI\": 30,\n",
    "    \"MTH\": 10,\n",
    "    \"OFYI\": 1,\n",
    "    \"TOTAL\": 120,\n",
    "}\n",
    "matsci = False\n",
    "bio = False\n",
    "probstat = False\n",
    "design_depth = False\n"
   ]
  },
  {
   "cell_type": "code",
   "execution_count": 20,
   "metadata": {},
   "outputs": [],
   "source": [
    "sem_courses = {\n",
    "    \"Freshmen Fall\": [\"QEA1\", \"Modsim\", \"DesNat\", \"AHS\"],\n",
    "    \"Freshmen Spring\": [\"QEA2\", \"ISIM\", \"P&M\", \"SoftDes\"],\n",
    "    \"Sophomore Fall\": [\"PIE\", \"Discrete\", \"\", \"\"],\n",
    "    \"Sophomore Spring\": [\"CD\", \"SoftSys\", \"\", \"\"],\n",
    "    \"Junior Fall\": [\"Bio\", \"MatSci\", \"\", \"\"],\n",
    "    \"Junior Spring\": [\"\", \"\", \"\", \"\"],\n",
    "    \"Senior Fall\": [\"Capstone\", \"\", \"\", \"\"],\n",
    "    \"Senior Spring\": [\"Capstone\", \"\", \"\", \"\"],\n",
    "}"
   ]
  },
  {
   "cell_type": "code",
   "execution_count": 21,
   "metadata": {},
   "outputs": [
    {
     "data": {
      "text/plain": [
       "{'Freshmen Fall': 0,\n",
       " 'Freshmen Spring': 0,\n",
       " 'Sophomore Fall': 2,\n",
       " 'Sophomore Spring': 2,\n",
       " 'Junior Fall': 2,\n",
       " 'Junior Spring': 4,\n",
       " 'Senior Fall': 3,\n",
       " 'Senior Spring': 3}"
      ]
     },
     "execution_count": 21,
     "metadata": {},
     "output_type": "execute_result"
    }
   ],
   "source": [
    "def get_empty_schedules():\n",
    "    \"\"\"\n",
    "    get empty schedules from sem_courses\n",
    "    Return:\n",
    "        dictionary of how many course are free(should be filled in) for each semester.\n",
    "    \"\"\"\n",
    "    emtpy_sem_courses = {}\n",
    "    for semester, courses in sem_courses.items():\n",
    "        emtpy_sem_courses[semester] = courses.count(\"\")\n",
    "    return emtpy_sem_courses\n",
    "get_empty_schedules()\n"
   ]
  },
  {
   "cell_type": "markdown",
   "metadata": {},
   "source": [
    "## Get possible Courses"
   ]
  },
  {
   "cell_type": "code",
   "execution_count": 22,
   "metadata": {},
   "outputs": [
    {
     "name": "stdout",
     "output_type": "stream",
     "text": [
      "Courses offered in freshman fall, 59: ['AHSE0112', 'AHSE1122', 'AHSE1155', 'AHSE1160', 'AHSE1199', 'AHSE1515', 'AHSE2135', 'AHSE2150_SCI1250', 'AHSE2199', 'AHSE2199A', 'AHSE2199B', 'AHSE2515', 'AHSE3190', 'AHSE4190', 'AWAY1000', 'CIE2223E', 'CIE2223M', 'CIE2223P', 'CIE_MEE', 'CIE_STEP', 'ENGR1200', 'ENGR1330', 'ENGR2110', 'ENGR2141/AHSE2141', 'ENGR2250', 'ENGR2299', 'ENGR3199', 'ENGR3220', 'ENGR3260', 'ENGR3260L', 'ENGR3290', 'ENGR3299A', 'ENGR3350', 'ENGR3355', 'ENGR3365', 'ENGR3392', 'ENGR3410', 'ENGR3420', 'ENGR3426', 'ENGR3499', 'ENGR3520', 'ENGR3599', 'ENGR4190', 'ENGR4290', 'ENGR4599', 'ENGX2000', 'ENGX2010', 'ENGX2134', 'MTH1111/SCI1111', 'MTH2110', 'MTH2135/ENGR3635', 'MTH3120', 'OIE1000', 'OIP1000', 'OIP1001', 'SCI1260/AHSE2160', 'SCI1270', 'SCI1410', 'SCI1440']\n",
      "Courses offered in freshman spring, 53: ['AHSE0112', 'AHSE1515', 'AHSE2150_SCI1250', 'AHSE2199', 'AHSE2199A', 'AHSE2199B', 'AHSE2515', 'AHSE3190', 'AHSE4190', 'AWAY1000', 'CIE2223E', 'CIE2223M', 'CIE2223P', 'CIE_MEE', 'CIE_STEP', 'CREDITS', 'ENGR1125', 'ENGR1330', 'ENGR2250', 'ENGR2320', 'ENGR2330', 'ENGR2340', 'ENGR2410', 'ENGR2420', 'ENGR2510', 'ENGR3210', 'ENGR3235/SCI2235', 'ENGR3240', 'ENGR3290', 'ENGR3299', 'ENGR3350', 'ENGR3355', 'ENGR3365', 'ENGR3370', 'ENGR3390', 'ENGR3392', 'ENGR3520', 'ENGR3525', 'ENGR3531/MTH2131', 'ENGR3599', 'ENGR3599A', 'ENGR4190', 'ENGR4290', 'ENGR4599', 'ENGX2005', 'ENGX2134', 'MTH2136/SCI2136', 'MTH3120', 'OIP1000', 'OIP1001', 'SCI1260/AHSE2160', 'SCI1320', 'SCI1440']\n",
      "Courses offered in sophomore fall, 57: ['AHSE0112', 'AHSE1122', 'AHSE1155', 'AHSE1160', 'AHSE1199', 'AHSE1515', 'AHSE2135', 'AHSE2150_SCI1250', 'AHSE2199', 'AHSE2199A', 'AHSE2199B', 'AHSE2515', 'AHSE3190', 'AHSE4190', 'AWAY1000', 'CIE2223E', 'CIE2223M', 'CIE2223P', 'CIE_MEE', 'CIE_STEP', 'CREDITS', 'ENGR1200', 'ENGR1330', 'ENGR2110', 'ENGR2250', 'ENGR2299', 'ENGR3220', 'ENGR3260', 'ENGR3260L', 'ENGR3290', 'ENGR3299A', 'ENGR3350', 'ENGR3355', 'ENGR3365', 'ENGR3392', 'ENGR3410', 'ENGR3420', 'ENGR3499', 'ENGR3520', 'ENGR3599', 'ENGR4190', 'ENGR4290', 'ENGR4599', 'ENGX2000', 'ENGX2010', 'ENGX2134', 'MTH1111/SCI1111', 'MTH2110', 'MTH3120', 'OIE1000', 'OIP1000', 'OIP1001', 'SCI1260/AHSE2160', 'SCI1270', 'SCI1320', 'SCI1410', 'SCI1440']\n",
      "Courses offered in sophomore spring, 52: ['AHSE0112', 'AHSE1515', 'AHSE2150_SCI1250', 'AHSE2199', 'AHSE2199A', 'AHSE2199B', 'AHSE2515', 'AHSE3190', 'AHSE4190', 'AWAY1000', 'CIE2223E', 'CIE2223M', 'CIE2223P', 'CIE_MEE', 'CIE_STEP', 'CREDITS', 'ENGR1125', 'ENGR1330', 'ENGR2250', 'ENGR2320', 'ENGR2330', 'ENGR2340', 'ENGR2410', 'ENGR2420', 'ENGR2510', 'ENGR3210', 'ENGR3235/SCI2235', 'ENGR3240', 'ENGR3290', 'ENGR3350', 'ENGR3355', 'ENGR3365', 'ENGR3370', 'ENGR3390', 'ENGR3392', 'ENGR3520', 'ENGR3525', 'ENGR3531/MTH2131', 'ENGR3599', 'ENGR3599A', 'ENGR4190', 'ENGR4290', 'ENGR4599', 'ENGX2005', 'ENGX2134', 'MTH2136/SCI2136', 'MTH3120', 'OIP1000', 'OIP1001', 'SCI1260/AHSE2160', 'SCI1320', 'SCI1440']\n",
      "Courses offered in junior fall, 58: ['AHSE0112', 'AHSE1122', 'AHSE1155', 'AHSE1160', 'AHSE1199', 'AHSE1515', 'AHSE2135', 'AHSE2150_SCI1250', 'AHSE2199', 'AHSE2199A', 'AHSE2199B', 'AHSE2515', 'AHSE3190', 'AHSE4190', 'AWAY1000', 'CIE2223E', 'CIE2223M', 'CIE2223P', 'CIE_MEE', 'CIE_STEP', 'CREDITS', 'ENGR1200', 'ENGR1330', 'ENGR2110', 'ENGR2250', 'ENGR2299', 'ENGR3220', 'ENGR3240', 'ENGR3260', 'ENGR3260L', 'ENGR3290', 'ENGR3299A', 'ENGR3350', 'ENGR3355', 'ENGR3365', 'ENGR3392', 'ENGR3410', 'ENGR3420', 'ENGR3520', 'ENGR3599', 'ENGR3599A', 'ENGR4190', 'ENGR4290', 'ENGR4599', 'ENGX2000', 'ENGX2010', 'ENGX2134', 'MTH1111/SCI1111', 'MTH2110', 'MTH3120', 'OIE1000', 'OIP1000', 'OIP1001', 'SCI1260/AHSE2160', 'SCI1270', 'SCI1320', 'SCI1410', 'SCI1440']\n",
      "Courses offered in junior spring, 51: ['AHSE0112', 'AHSE1515', 'AHSE2150_SCI1250', 'AHSE2199', 'AHSE2199A', 'AHSE2199B', 'AHSE2515', 'AHSE3190', 'AHSE4190', 'AWAY1000', 'CIE2223E', 'CIE2223M', 'CIE2223P', 'CIE_MEE', 'CIE_STEP', 'CREDITS', 'ENGR1125', 'ENGR1330', 'ENGR2250', 'ENGR2320', 'ENGR2330', 'ENGR2340', 'ENGR2410', 'ENGR2420', 'ENGR2510', 'ENGR3210', 'ENGR3240', 'ENGR3290', 'ENGR3350', 'ENGR3355', 'ENGR3365', 'ENGR3370', 'ENGR3390', 'ENGR3392', 'ENGR3520', 'ENGR3525', 'ENGR3531/MTH2131', 'ENGR3599', 'ENGR3599A', 'ENGR4190', 'ENGR4290', 'ENGR4599', 'ENGX2005', 'ENGX2134', 'MTH2136/SCI2136', 'MTH3120', 'OIP1000', 'OIP1001', 'SCI1260/AHSE2160', 'SCI1320', 'SCI1440']\n",
      "Courses offered in senior fall, 57: ['AHSE0112', 'AHSE1122', 'AHSE1155', 'AHSE1160', 'AHSE1199', 'AHSE1515', 'AHSE2135', 'AHSE2150_SCI1250', 'AHSE2199', 'AHSE2199A', 'AHSE2199B', 'AHSE2515', 'AHSE3190', 'AHSE4190', 'AWAY1000', 'CIE2223E', 'CIE2223M', 'CIE2223P', 'CIE_MEE', 'CIE_STEP', 'CREDITS', 'ENGR1200', 'ENGR1330', 'ENGR2110', 'ENGR2250', 'ENGR2299', 'ENGR3220', 'ENGR3240', 'ENGR3260', 'ENGR3260L', 'ENGR3290', 'ENGR3350', 'ENGR3355', 'ENGR3365', 'ENGR3392', 'ENGR3410', 'ENGR3420', 'ENGR3520', 'ENGR3599', 'ENGR3599A', 'ENGR4190', 'ENGR4290', 'ENGR4599', 'ENGX2000', 'ENGX2010', 'ENGX2134', 'MTH1111/SCI1111', 'MTH2110', 'MTH3120', 'OIE1000', 'OIP1000', 'OIP1001', 'SCI1260/AHSE2160', 'SCI1270', 'SCI1320', 'SCI1410', 'SCI1440']\n",
      "Courses offered in senior spring, 51: ['AHSE0112', 'AHSE1515', 'AHSE2150_SCI1250', 'AHSE2199', 'AHSE2199A', 'AHSE2199B', 'AHSE2515', 'AHSE3190', 'AHSE4190', 'AWAY1000', 'CIE2223E', 'CIE2223M', 'CIE2223P', 'CIE_MEE', 'CIE_STEP', 'CREDITS', 'ENGR1125', 'ENGR1330', 'ENGR2250', 'ENGR2320', 'ENGR2330', 'ENGR2340', 'ENGR2410', 'ENGR2420', 'ENGR2510', 'ENGR3210', 'ENGR3240', 'ENGR3290', 'ENGR3350', 'ENGR3355', 'ENGR3365', 'ENGR3370', 'ENGR3390', 'ENGR3392', 'ENGR3520', 'ENGR3525', 'ENGR3531/MTH2131', 'ENGR3599', 'ENGR3599A', 'ENGR4190', 'ENGR4290', 'ENGR4599', 'ENGX2005', 'ENGX2134', 'MTH2136/SCI2136', 'MTH3120', 'OIP1000', 'OIP1001', 'SCI1260/AHSE2160', 'SCI1320', 'SCI1440']\n"
     ]
    }
   ],
   "source": [
    "import pandas as pd\n",
    "df = pd.read_csv(\"predicted_schedule.csv\", index_col=0)\n",
    "\n",
    "offered_courses = {}\n",
    "\n",
    "# Iterate through each semester column\n",
    "for semester in df.columns[1:]:  # Exclude the 'Course Title' column\n",
    "    # Filter the DataFrame for courses offered in the current semester with values greater than 0.5\n",
    "    offered_courses[semester] = df[df[semester] > 0.5].index.tolist()\n",
    "\n",
    "# Print the dictionary of offered courses for each semester\n",
    "for semester, courses in offered_courses.items():\n",
    "    print(f\"Courses offered in {semester}, {len(courses)}: {courses}\")\n",
    "\n",
    "# # Filter the DataFrame for courses offered in 'freshman fall' with values greater than 0.5\n",
    "# offered_courses = predicted_schedule[predicted_schedule['freshman fall'] > 0.5].index.tolist()\n",
    "\n",
    "# # Print the list of offered courses\n",
    "# print(offered_courses)\n"
   ]
  },
  {
   "cell_type": "code",
   "execution_count": 23,
   "metadata": {},
   "outputs": [],
   "source": [
    "def calculate_credits():\n",
    "    pass"
   ]
  },
  {
   "cell_type": "code",
   "execution_count": 24,
   "metadata": {},
   "outputs": [],
   "source": [
    "credits_took = {\n",
    "    \"AHSE\": 8,\n",
    "    \"ENGR\": 14,\n",
    "    \"MTH/SCI\": 10,\n",
    "    \"MTH\": 6,\n",
    "    \"OFYI\": 1,\n",
    "    \"TOTAL\": 33,\n",
    "}\n",
    "credits_required = {\n",
    "    \"AHSE\": 28,\n",
    "    \"ENGR\": 46,\n",
    "    \"MTH/SCI\": 30,\n",
    "    \"MTH\": 10,\n",
    "    \"OFYI\": 1,\n",
    "    \"TOTAL\": 120,\n",
    "}\n",
    "matsci = False\n",
    "bio = False\n",
    "probstat = False\n",
    "design_depth = False"
   ]
  },
  {
   "cell_type": "code",
   "execution_count": 25,
   "metadata": {},
   "outputs": [],
   "source": [
    "courses_took = [\"QEA1\", \"Modsim\", \"DesNat\", \"AHS\", \"QEA2\", \"ISIM\", \"P&M\", \"SoftDes\", \"PIE\", \"Discrete\", \"CD\", \"SoftSys\", \"Bio\", \"MatSci\", ]"
   ]
  },
  {
   "cell_type": "code",
   "execution_count": 26,
   "metadata": {},
   "outputs": [],
   "source": [
    "major_requirements = {\"E:C\":{\"ENGR2510\":[True, 0], \"ENGR3525\": [False, 1], 'ENGR3599A/ENGR3520': [False, 1]}, \"MechE\":{}, }\n",
    "electives = {\"E:C\":['ENGR3220', 'ENGR3410', \"ENGR3540\", 'ENGR3590', 'ENGR3599'], 'MechE':[]}"
   ]
  },
  {
   "cell_type": "markdown",
   "metadata": {},
   "source": [
    "## fill_required_courses"
   ]
  },
  {
   "cell_type": "code",
   "execution_count": 28,
   "metadata": {},
   "outputs": [
    {
     "name": "stdout",
     "output_type": "stream",
     "text": [
      "ENGR3525:['freshman spring', 'sophomore spring', 'junior spring', 'senior spring']\n",
      "ENGR3599A:['freshman spring', 'sophomore spring', 'junior fall', 'junior spring', 'senior fall', 'senior spring']\n",
      "ENGR3520:['freshman fall', 'freshman spring', 'sophomore fall', 'sophomore spring', 'junior fall', 'junior spring', 'senior fall', 'senior spring']\n",
      "{'Freshmen Fall': ['QEA1', 'Modsim', 'DesNat', 'AHS'], 'Freshmen Spring': ['QEA2', 'ISIM', 'P&M', 'SoftDes'], 'Sophomore Fall': ['PIE', 'Discrete', '', ''], 'Sophomore Spring': ['CD', 'SoftSys', '', ''], 'Junior Fall': ['Bio', 'MatSci', '', ''], 'Junior Spring': ['', '', '', ''], 'Senior Fall': ['Capstone', '', '', ''], 'Senior Spring': ['Capstone', '', '', '']}\n"
     ]
    },
    {
     "name": "stderr",
     "output_type": "stream",
     "text": [
      "/tmp/ipykernel_39694/1405326010.py:15: FutureWarning: Calling float on a single element Series is deprecated and will raise a TypeError in the future. Use float(ser.iloc[0]) instead\n",
      "  if float(value) >= 0.5\n",
      "/tmp/ipykernel_39694/1405326010.py:15: FutureWarning: Calling float on a single element Series is deprecated and will raise a TypeError in the future. Use float(ser.iloc[0]) instead\n",
      "  if float(value) >= 0.5\n",
      "/tmp/ipykernel_39694/1405326010.py:15: FutureWarning: Calling float on a single element Series is deprecated and will raise a TypeError in the future. Use float(ser.iloc[0]) instead\n",
      "  if float(value) >= 0.5\n"
     ]
    }
   ],
   "source": [
    "\n",
    "df = pd.read_csv(\"predicted_schedule.csv\", index_col=0).T\n",
    "max_num_course = 4\n",
    "major = \"E:C\"\n",
    "last_level = 1\n",
    "for courses, [took, level] in major_requirements[major].items():\n",
    "    if not took:\n",
    "        courses_separated = courses.split(\"/\")\n",
    "        for course in courses_separated:\n",
    "            # print(f'{course}: {df[course]}')\n",
    "            offering_semester_prediction = df[course].to_frame().T\n",
    "            offering_semester_prediction.set_index(\"Course Title\", inplace=True)\n",
    "            offered_semesters = [\n",
    "                semester\n",
    "                for semester, value in offering_semester_prediction.items()\n",
    "                if float(value) >= 0.5\n",
    "            ]\n",
    "            print(f\"{course}:{offered_semesters}\")\n",
    "            # look through the sem_courses\n",
    "            for idx, [semester, took_courses] in enumerate(sem_courses.items()):\n",
    "                # skip freshman years\n",
    "                if idx < 3:\n",
    "                    continue\n",
    "                # if a semester in sem_courses have less than max num courses\n",
    "                # and is in the offered_semesters list and last_level is not higher than current level, fill it out from the start\n",
    "                if (\n",
    "                    semester.lower() in offered_semesters\n",
    "                    and len(took_courses) < max_num_course\n",
    "                    and last_level <= level\n",
    "                    and course not in courses_took\n",
    "                ):\n",
    "                    sem_courses[semester].append(df[course][\"Course Title\"])\n",
    "                    # change took to True\n",
    "                    major_requirements[major][courses][0] = True\n",
    "                    # add the course number to courses_took\n",
    "                    courses_took.append(course)\n",
    "                    # update level\n",
    "                    last_level = level\n",
    "                    continue\n",
    "print(sem_courses)\n"
   ]
  },
  {
   "cell_type": "code",
   "execution_count": 18,
   "metadata": {},
   "outputs": [
    {
     "data": {
      "text/plain": [
       "'AHSE0112: The Olin Conductorless Orchestra'"
      ]
     },
     "execution_count": 18,
     "metadata": {},
     "output_type": "execute_result"
    }
   ],
   "source": [
    "df['AHSE0112']['Course Title']"
   ]
  },
  {
   "cell_type": "markdown",
   "metadata": {},
   "source": [
    "## fill_empty_schedules"
   ]
  },
  {
   "cell_type": "code",
   "execution_count": null,
   "metadata": {},
   "outputs": [],
   "source": [
    "\"\"\"\n",
    "fill in the sem_course with the possible_courses\n",
    "\"\"\"\n",
    "pass"
   ]
  }
 ],
 "metadata": {
  "kernelspec": {
   "display_name": "base",
   "language": "python",
   "name": "python3"
  },
  "language_info": {
   "codemirror_mode": {
    "name": "ipython",
    "version": 3
   },
   "file_extension": ".py",
   "mimetype": "text/x-python",
   "name": "python",
   "nbconvert_exporter": "python",
   "pygments_lexer": "ipython3",
   "version": "3.11.5"
  },
  "orig_nbformat": 4
 },
 "nbformat": 4,
 "nbformat_minor": 2
}
